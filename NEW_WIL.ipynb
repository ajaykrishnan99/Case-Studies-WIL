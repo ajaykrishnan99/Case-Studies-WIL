{
 "cells": [
  {
   "cell_type": "code",
   "execution_count": 1,
   "metadata": {},
   "outputs": [],
   "source": [
    "import pandas as pd\n",
    "import numpy as np"
   ]
  },
  {
   "cell_type": "code",
   "execution_count": 2,
   "metadata": {},
   "outputs": [],
   "source": [
    "url = \"https://raw.githubusercontent.com/nytimes/covid-19-data/master/rolling-averages/us-counties-recent.csv\"\n",
    "aveg = pd.read_csv(url)"
   ]
  },
  {
   "cell_type": "code",
   "execution_count": 3,
   "metadata": {},
   "outputs": [],
   "source": [
    "aveg['date'] = pd.to_datetime(aveg['date'])"
   ]
  },
  {
   "cell_type": "code",
   "execution_count": 4,
   "metadata": {},
   "outputs": [],
   "source": [
    "lastest_date=aveg['date'].max()"
   ]
  },
  {
   "cell_type": "code",
   "execution_count": 5,
   "metadata": {},
   "outputs": [
    {
     "name": "stdout",
     "output_type": "stream",
     "text": [
      "2021-09-15\n",
      "<class 'datetime.date'>\n"
     ]
    }
   ],
   "source": [
    "from datetime import date\n",
    "today = date.today()\n",
    "from datetime import datetime, timedelta  \n",
    "# check_date = lastest_date- timedelta(days=8)\n",
    "check_date = today - timedelta(days=12)\n",
    "print(check_date)\n",
    "print(type(check_date))"
   ]
  },
  {
   "cell_type": "code",
   "execution_count": 6,
   "metadata": {},
   "outputs": [],
   "source": [
    "aveg['date'] = pd.to_datetime(aveg['date'])\n",
    "mask = aveg[\"date\"] >= str(check_date)\n",
    "new_df=aveg[mask]"
   ]
  },
  {
   "cell_type": "code",
   "execution_count": 7,
   "metadata": {},
   "outputs": [],
   "source": [
    "del new_df['geoid']"
   ]
  },
  {
   "cell_type": "code",
   "execution_count": 8,
   "metadata": {
    "scrolled": true
   },
   "outputs": [
    {
     "data": {
      "text/html": [
       "<div>\n",
       "<style scoped>\n",
       "    .dataframe tbody tr th:only-of-type {\n",
       "        vertical-align: middle;\n",
       "    }\n",
       "\n",
       "    .dataframe tbody tr th {\n",
       "        vertical-align: top;\n",
       "    }\n",
       "\n",
       "    .dataframe thead th {\n",
       "        text-align: right;\n",
       "    }\n",
       "</style>\n",
       "<table border=\"1\" class=\"dataframe\">\n",
       "  <thead>\n",
       "    <tr style=\"text-align: right;\">\n",
       "      <th></th>\n",
       "      <th>date</th>\n",
       "      <th>county</th>\n",
       "      <th>state</th>\n",
       "      <th>cases</th>\n",
       "      <th>cases_avg</th>\n",
       "      <th>cases_avg_per_100k</th>\n",
       "      <th>deaths</th>\n",
       "      <th>deaths_avg</th>\n",
       "      <th>deaths_avg_per_100k</th>\n",
       "    </tr>\n",
       "  </thead>\n",
       "  <tbody>\n",
       "    <tr>\n",
       "      <th>58541</th>\n",
       "      <td>2021-09-15</td>\n",
       "      <td>Unknown</td>\n",
       "      <td>Puerto Rico</td>\n",
       "      <td>-5</td>\n",
       "      <td>11.67</td>\n",
       "      <td>NaN</td>\n",
       "      <td>0</td>\n",
       "      <td>0.0</td>\n",
       "      <td>NaN</td>\n",
       "    </tr>\n",
       "    <tr>\n",
       "      <th>58542</th>\n",
       "      <td>2021-09-15</td>\n",
       "      <td>Yauco</td>\n",
       "      <td>Puerto Rico</td>\n",
       "      <td>0</td>\n",
       "      <td>0.86</td>\n",
       "      <td>2.53</td>\n",
       "      <td>0</td>\n",
       "      <td>0.0</td>\n",
       "      <td>0.0</td>\n",
       "    </tr>\n",
       "    <tr>\n",
       "      <th>58543</th>\n",
       "      <td>2021-09-15</td>\n",
       "      <td>Yabucoa</td>\n",
       "      <td>Puerto Rico</td>\n",
       "      <td>0</td>\n",
       "      <td>1.71</td>\n",
       "      <td>5.33</td>\n",
       "      <td>0</td>\n",
       "      <td>0.0</td>\n",
       "      <td>0.0</td>\n",
       "    </tr>\n",
       "    <tr>\n",
       "      <th>58544</th>\n",
       "      <td>2021-09-15</td>\n",
       "      <td>Villalba</td>\n",
       "      <td>Puerto Rico</td>\n",
       "      <td>1</td>\n",
       "      <td>1.43</td>\n",
       "      <td>6.65</td>\n",
       "      <td>0</td>\n",
       "      <td>0.0</td>\n",
       "      <td>0.0</td>\n",
       "    </tr>\n",
       "    <tr>\n",
       "      <th>58545</th>\n",
       "      <td>2021-09-15</td>\n",
       "      <td>Vieques</td>\n",
       "      <td>Puerto Rico</td>\n",
       "      <td>0</td>\n",
       "      <td>0.57</td>\n",
       "      <td>6.83</td>\n",
       "      <td>0</td>\n",
       "      <td>0.0</td>\n",
       "      <td>0.0</td>\n",
       "    </tr>\n",
       "  </tbody>\n",
       "</table>\n",
       "</div>"
      ],
      "text/plain": [
       "            date    county        state  cases  cases_avg  cases_avg_per_100k  \\\n",
       "58541 2021-09-15   Unknown  Puerto Rico     -5      11.67                 NaN   \n",
       "58542 2021-09-15     Yauco  Puerto Rico      0       0.86                2.53   \n",
       "58543 2021-09-15   Yabucoa  Puerto Rico      0       1.71                5.33   \n",
       "58544 2021-09-15  Villalba  Puerto Rico      1       1.43                6.65   \n",
       "58545 2021-09-15   Vieques  Puerto Rico      0       0.57                6.83   \n",
       "\n",
       "       deaths  deaths_avg  deaths_avg_per_100k  \n",
       "58541       0         0.0                  NaN  \n",
       "58542       0         0.0                  0.0  \n",
       "58543       0         0.0                  0.0  \n",
       "58544       0         0.0                  0.0  \n",
       "58545       0         0.0                  0.0  "
      ]
     },
     "execution_count": 8,
     "metadata": {},
     "output_type": "execute_result"
    }
   ],
   "source": [
    "new_df.head()"
   ]
  },
  {
   "cell_type": "code",
   "execution_count": 9,
   "metadata": {},
   "outputs": [
    {
     "name": "stderr",
     "output_type": "stream",
     "text": [
      "C:\\Users\\Ajay\\AppData\\Roaming\\Python\\Python37\\site-packages\\pandas\\core\\frame.py:4908: SettingWithCopyWarning: \n",
      "A value is trying to be set on a copy of a slice from a DataFrame\n",
      "\n",
      "See the caveats in the documentation: https://pandas.pydata.org/pandas-docs/stable/user_guide/indexing.html#returning-a-view-versus-a-copy\n",
      "  errors=errors,\n"
     ]
    }
   ],
   "source": [
    "new_df.drop(new_df.index[(new_df['county'] == 'Unknown')],axis=0,inplace=True)"
   ]
  },
  {
   "cell_type": "code",
   "execution_count": 10,
   "metadata": {},
   "outputs": [
    {
     "name": "stderr",
     "output_type": "stream",
     "text": [
      "C:\\Users\\Ajay\\anaconda3\\lib\\site-packages\\ipykernel_launcher.py:1: SettingWithCopyWarning: \n",
      "A value is trying to be set on a copy of a slice from a DataFrame.\n",
      "Try using .loc[row_indexer,col_indexer] = value instead\n",
      "\n",
      "See the caveats in the documentation: https://pandas.pydata.org/pandas-docs/stable/user_guide/indexing.html#returning-a-view-versus-a-copy\n",
      "  \"\"\"Entry point for launching an IPython kernel.\n"
     ]
    }
   ],
   "source": [
    "new_df['date']=new_df['date'].apply(lambda x: x.date())"
   ]
  },
  {
   "cell_type": "markdown",
   "metadata": {},
   "source": [
    "# Vaccination"
   ]
  },
  {
   "cell_type": "markdown",
   "metadata": {},
   "source": [
    "API\n",
    "https://dev.socrata.com/docs/queries/where.html<br>\n",
    "https://dev.socrata.com/docs/queries/"
   ]
  },
  {
   "cell_type": "markdown",
   "metadata": {},
   "source": [
    "https://dev.socrata.com/foundry/data.cdc.gov/8xkx-amqh"
   ]
  },
  {
   "cell_type": "markdown",
   "metadata": {},
   "source": [
    "Whole"
   ]
  },
  {
   "cell_type": "code",
   "execution_count": null,
   "metadata": {},
   "outputs": [],
   "source": [
    "# url=r\"https://data.cdc.gov/api/views/8xkx-amqh/rows.csv?accessType=DOWNLOAD\""
   ]
  },
  {
   "cell_type": "code",
   "execution_count": null,
   "metadata": {},
   "outputs": [],
   "source": [
    "# req = requests.get(url)\n",
    "# url_content = req.content\n",
    "# csv_file = open('vacination_whole.csv', 'wb')\n",
    "# csv_file.write(url_content)\n",
    "# csv_file.close()\n",
    "\n",
    "# vac_df=pd.read_csv('vacination_whole.csv')"
   ]
  },
  {
   "cell_type": "markdown",
   "metadata": {},
   "source": [
    "### Vacination FINAL"
   ]
  },
  {
   "cell_type": "code",
   "execution_count": 11,
   "metadata": {},
   "outputs": [],
   "source": [
    "import requests"
   ]
  },
  {
   "cell_type": "code",
   "execution_count": 12,
   "metadata": {},
   "outputs": [],
   "source": [
    "lastday=lastest_date.date()"
   ]
  },
  {
   "cell_type": "code",
   "execution_count": 13,
   "metadata": {},
   "outputs": [],
   "source": [
    "daterange=pd.date_range(check_date,lastday-timedelta(days=1),freq='d')\n",
    "daterange=[i.date() for i in daterange]"
   ]
  },
  {
   "cell_type": "code",
   "execution_count": 14,
   "metadata": {},
   "outputs": [
    {
     "data": {
      "text/plain": [
       "[datetime.date(2021, 9, 15),\n",
       " datetime.date(2021, 9, 16),\n",
       " datetime.date(2021, 9, 17),\n",
       " datetime.date(2021, 9, 18),\n",
       " datetime.date(2021, 9, 19),\n",
       " datetime.date(2021, 9, 20),\n",
       " datetime.date(2021, 9, 21),\n",
       " datetime.date(2021, 9, 22),\n",
       " datetime.date(2021, 9, 23),\n",
       " datetime.date(2021, 9, 24),\n",
       " datetime.date(2021, 9, 25)]"
      ]
     },
     "execution_count": 14,
     "metadata": {},
     "output_type": "execute_result"
    }
   ],
   "source": [
    "daterange"
   ]
  },
  {
   "cell_type": "code",
   "execution_count": 15,
   "metadata": {},
   "outputs": [],
   "source": [
    "csv_file = open('vacination.csv', 'wb')\n",
    "for i in daterange:\n",
    "    url=r\"https://data.cdc.gov/resource/8xkx-amqh.csv?$where=date='\"+str(i)+\"'\"\n",
    "    req = requests.get(url)\n",
    "    url_content = req.content\n",
    "    csv_file.write(url_content)\n",
    "csv_file.close()"
   ]
  },
  {
   "cell_type": "code",
   "execution_count": 16,
   "metadata": {},
   "outputs": [],
   "source": [
    "vac_df=pd.read_csv('vacination.csv')"
   ]
  },
  {
   "cell_type": "code",
   "execution_count": 17,
   "metadata": {},
   "outputs": [],
   "source": [
    "indexes=[]\n",
    "for index,row in vac_df.iterrows():\n",
    "    if row['date']=='date':\n",
    "        indexes.append(index)"
   ]
  },
  {
   "cell_type": "code",
   "execution_count": 18,
   "metadata": {},
   "outputs": [
    {
     "data": {
      "text/plain": [
       "[1000, 2001, 3002, 4003, 5004, 6005, 7006, 8007, 9008, 10009]"
      ]
     },
     "execution_count": 18,
     "metadata": {},
     "output_type": "execute_result"
    }
   ],
   "source": [
    "indexes"
   ]
  },
  {
   "cell_type": "code",
   "execution_count": 19,
   "metadata": {},
   "outputs": [],
   "source": [
    "vac_df = vac_df.drop(labels=indexes, axis=0)"
   ]
  },
  {
   "cell_type": "code",
   "execution_count": 20,
   "metadata": {},
   "outputs": [
    {
     "data": {
      "text/plain": [
       "array(['2021-09-15T00:00:00.000', '2021-09-16T00:00:00.000',\n",
       "       '2021-09-17T00:00:00.000', '2021-09-18T00:00:00.000',\n",
       "       '2021-09-19T00:00:00.000', '2021-09-20T00:00:00.000',\n",
       "       '2021-09-21T00:00:00.000', '2021-09-22T00:00:00.000',\n",
       "       '2021-09-23T00:00:00.000', '2021-09-24T00:00:00.000',\n",
       "       '2021-09-25T00:00:00.000'], dtype=object)"
      ]
     },
     "execution_count": 20,
     "metadata": {},
     "output_type": "execute_result"
    }
   ],
   "source": [
    "vac_df['date'].unique()"
   ]
  },
  {
   "cell_type": "code",
   "execution_count": 21,
   "metadata": {},
   "outputs": [],
   "source": [
    "vac_df.drop(vac_df.index[(vac_df['recip_county'] == 'Unknown')],axis=0,inplace=True)"
   ]
  },
  {
   "cell_type": "code",
   "execution_count": 22,
   "metadata": {},
   "outputs": [],
   "source": [
    "replace_dict = {'AL' : 'Alabama','AK' : 'Alaska','AZ' : 'Arizona','AR' : 'Arkansas','CA' : 'California','CO' : 'Colorado','CT' : 'Connecticut','DE' : 'Delaware','FL' : 'Florida','GA' : 'Georgia','HI' : 'Hawaii','ID' : 'Idaho','IL' : 'Illinois','IN' : 'Indiana','IA' : 'Iowa','KS' : 'Kansas','KY' : 'Kentucky','LA' : 'Louisiana','ME' : 'Maine','MD' : 'Maryland','MA' : 'Massachusetts','MI' : 'Michigan','MN' : 'Minnesota','MS' : 'Mississippi','MO' : 'Missouri','MT' : 'Montana','NE' : 'Nebraska','NV' : 'Nevada','NH' : 'New Hampshire','NJ' : 'New Jersey','NM' : 'New Mexico','NY' : 'New York','NC' : 'North Carolina','ND' : 'North Dakota','OH' : 'Ohio','OK' : 'Oklahoma','OR' : 'Oregon','PA' : 'Pennsylvania','RI' : 'Rhode Island','SC' : 'South Carolina','SD' : 'South Dakota','TN' : 'Tennessee','TX' : 'Texas','UT' : 'Utah','VT' : 'Vermont','VA' : 'Virginia','WA' : 'Washington','WV' : 'West Virginia','WI' : 'Wisconsin','WY' : 'Wyoming'}\n",
    "vac_df.recip_state.replace(replace_dict,inplace=True)"
   ]
  },
  {
   "cell_type": "code",
   "execution_count": 23,
   "metadata": {},
   "outputs": [
    {
     "data": {
      "text/html": [
       "<div>\n",
       "<style scoped>\n",
       "    .dataframe tbody tr th:only-of-type {\n",
       "        vertical-align: middle;\n",
       "    }\n",
       "\n",
       "    .dataframe tbody tr th {\n",
       "        vertical-align: top;\n",
       "    }\n",
       "\n",
       "    .dataframe thead th {\n",
       "        text-align: right;\n",
       "    }\n",
       "</style>\n",
       "<table border=\"1\" class=\"dataframe\">\n",
       "  <thead>\n",
       "    <tr style=\"text-align: right;\">\n",
       "      <th></th>\n",
       "      <th>date</th>\n",
       "      <th>fips</th>\n",
       "      <th>mmwr_week</th>\n",
       "      <th>recip_county</th>\n",
       "      <th>recip_state</th>\n",
       "      <th>series_complete_pop_pct</th>\n",
       "      <th>series_complete_yes</th>\n",
       "      <th>series_complete_12plus</th>\n",
       "      <th>series_complete_12pluspop</th>\n",
       "      <th>series_complete_18plus</th>\n",
       "      <th>...</th>\n",
       "      <th>svi_ctgy</th>\n",
       "      <th>series_complete_pop_pct_svi</th>\n",
       "      <th>series_complete_12pluspop_pct_svi</th>\n",
       "      <th>series_complete_18pluspop_pct_svi</th>\n",
       "      <th>series_complete_65pluspop_pct_svi</th>\n",
       "      <th>metro_status</th>\n",
       "      <th>series_complete_pop_pct_ur_equity</th>\n",
       "      <th>series_complete_12pluspop_pct_ur_equity</th>\n",
       "      <th>series_complete_18pluspop_pct_ur_equity</th>\n",
       "      <th>series_complete_65pluspop_pct_ur_equity</th>\n",
       "    </tr>\n",
       "  </thead>\n",
       "  <tbody>\n",
       "    <tr>\n",
       "      <th>0</th>\n",
       "      <td>2021-09-15T00:00:00.000</td>\n",
       "      <td>42121</td>\n",
       "      <td>37</td>\n",
       "      <td>Venango County</td>\n",
       "      <td>Pennsylvania</td>\n",
       "      <td>37.6</td>\n",
       "      <td>19065</td>\n",
       "      <td>19065</td>\n",
       "      <td>42.8</td>\n",
       "      <td>18324</td>\n",
       "      <td>...</td>\n",
       "      <td>B</td>\n",
       "      <td>6</td>\n",
       "      <td>7</td>\n",
       "      <td>7</td>\n",
       "      <td>7</td>\n",
       "      <td>Non-metro</td>\n",
       "      <td>6</td>\n",
       "      <td>7</td>\n",
       "      <td>7</td>\n",
       "      <td>7</td>\n",
       "    </tr>\n",
       "    <tr>\n",
       "      <th>1</th>\n",
       "      <td>2021-09-15T00:00:00.000</td>\n",
       "      <td>08045</td>\n",
       "      <td>37</td>\n",
       "      <td>Garfield County</td>\n",
       "      <td>Colorado</td>\n",
       "      <td>52.6</td>\n",
       "      <td>31607</td>\n",
       "      <td>31502</td>\n",
       "      <td>62.8</td>\n",
       "      <td>29144</td>\n",
       "      <td>...</td>\n",
       "      <td>B</td>\n",
       "      <td>8</td>\n",
       "      <td>8</td>\n",
       "      <td>8</td>\n",
       "      <td>8</td>\n",
       "      <td>Non-metro</td>\n",
       "      <td>8</td>\n",
       "      <td>8</td>\n",
       "      <td>8</td>\n",
       "      <td>8</td>\n",
       "    </tr>\n",
       "    <tr>\n",
       "      <th>2</th>\n",
       "      <td>2021-09-15T00:00:00.000</td>\n",
       "      <td>12097</td>\n",
       "      <td>37</td>\n",
       "      <td>Osceola County</td>\n",
       "      <td>Florida</td>\n",
       "      <td>58.4</td>\n",
       "      <td>219602</td>\n",
       "      <td>219570</td>\n",
       "      <td>69.2</td>\n",
       "      <td>203066</td>\n",
       "      <td>...</td>\n",
       "      <td>D</td>\n",
       "      <td>16</td>\n",
       "      <td>16</td>\n",
       "      <td>16</td>\n",
       "      <td>16</td>\n",
       "      <td>Metro</td>\n",
       "      <td>4</td>\n",
       "      <td>4</td>\n",
       "      <td>4</td>\n",
       "      <td>4</td>\n",
       "    </tr>\n",
       "    <tr>\n",
       "      <th>3</th>\n",
       "      <td>2021-09-15T00:00:00.000</td>\n",
       "      <td>30087</td>\n",
       "      <td>37</td>\n",
       "      <td>Rosebud County</td>\n",
       "      <td>Montana</td>\n",
       "      <td>64.9</td>\n",
       "      <td>5800</td>\n",
       "      <td>5797</td>\n",
       "      <td>80.4</td>\n",
       "      <td>5277</td>\n",
       "      <td>...</td>\n",
       "      <td>C</td>\n",
       "      <td>12</td>\n",
       "      <td>12</td>\n",
       "      <td>12</td>\n",
       "      <td>12</td>\n",
       "      <td>Non-metro</td>\n",
       "      <td>8</td>\n",
       "      <td>8</td>\n",
       "      <td>8</td>\n",
       "      <td>8</td>\n",
       "    </tr>\n",
       "    <tr>\n",
       "      <th>4</th>\n",
       "      <td>2021-09-15T00:00:00.000</td>\n",
       "      <td>05117</td>\n",
       "      <td>37</td>\n",
       "      <td>Prairie County</td>\n",
       "      <td>Arkansas</td>\n",
       "      <td>36</td>\n",
       "      <td>2903</td>\n",
       "      <td>2902</td>\n",
       "      <td>41.8</td>\n",
       "      <td>2778</td>\n",
       "      <td>...</td>\n",
       "      <td>C</td>\n",
       "      <td>10</td>\n",
       "      <td>11</td>\n",
       "      <td>11</td>\n",
       "      <td>11</td>\n",
       "      <td>Non-metro</td>\n",
       "      <td>6</td>\n",
       "      <td>7</td>\n",
       "      <td>7</td>\n",
       "      <td>7</td>\n",
       "    </tr>\n",
       "  </tbody>\n",
       "</table>\n",
       "<p>5 rows × 32 columns</p>\n",
       "</div>"
      ],
      "text/plain": [
       "                      date   fips mmwr_week     recip_county   recip_state  \\\n",
       "0  2021-09-15T00:00:00.000  42121        37   Venango County  Pennsylvania   \n",
       "1  2021-09-15T00:00:00.000  08045        37  Garfield County      Colorado   \n",
       "2  2021-09-15T00:00:00.000  12097        37   Osceola County       Florida   \n",
       "3  2021-09-15T00:00:00.000  30087        37   Rosebud County       Montana   \n",
       "4  2021-09-15T00:00:00.000  05117        37   Prairie County      Arkansas   \n",
       "\n",
       "  series_complete_pop_pct series_complete_yes series_complete_12plus  \\\n",
       "0                    37.6               19065                  19065   \n",
       "1                    52.6               31607                  31502   \n",
       "2                    58.4              219602                 219570   \n",
       "3                    64.9                5800                   5797   \n",
       "4                      36                2903                   2902   \n",
       "\n",
       "  series_complete_12pluspop series_complete_18plus  ... svi_ctgy  \\\n",
       "0                      42.8                  18324  ...        B   \n",
       "1                      62.8                  29144  ...        B   \n",
       "2                      69.2                 203066  ...        D   \n",
       "3                      80.4                   5277  ...        C   \n",
       "4                      41.8                   2778  ...        C   \n",
       "\n",
       "  series_complete_pop_pct_svi series_complete_12pluspop_pct_svi  \\\n",
       "0                           6                                 7   \n",
       "1                           8                                 8   \n",
       "2                          16                                16   \n",
       "3                          12                                12   \n",
       "4                          10                                11   \n",
       "\n",
       "  series_complete_18pluspop_pct_svi series_complete_65pluspop_pct_svi  \\\n",
       "0                                 7                                 7   \n",
       "1                                 8                                 8   \n",
       "2                                16                                16   \n",
       "3                                12                                12   \n",
       "4                                11                                11   \n",
       "\n",
       "  metro_status series_complete_pop_pct_ur_equity  \\\n",
       "0    Non-metro                                 6   \n",
       "1    Non-metro                                 8   \n",
       "2        Metro                                 4   \n",
       "3    Non-metro                                 8   \n",
       "4    Non-metro                                 6   \n",
       "\n",
       "  series_complete_12pluspop_pct_ur_equity  \\\n",
       "0                                       7   \n",
       "1                                       8   \n",
       "2                                       4   \n",
       "3                                       8   \n",
       "4                                       7   \n",
       "\n",
       "  series_complete_18pluspop_pct_ur_equity  \\\n",
       "0                                       7   \n",
       "1                                       8   \n",
       "2                                       4   \n",
       "3                                       8   \n",
       "4                                       7   \n",
       "\n",
       "  series_complete_65pluspop_pct_ur_equity  \n",
       "0                                       7  \n",
       "1                                       8  \n",
       "2                                       4  \n",
       "3                                       8  \n",
       "4                                       7  \n",
       "\n",
       "[5 rows x 32 columns]"
      ]
     },
     "execution_count": 23,
     "metadata": {},
     "output_type": "execute_result"
    }
   ],
   "source": [
    "vac_df.head()"
   ]
  },
  {
   "cell_type": "code",
   "execution_count": 26,
   "metadata": {},
   "outputs": [],
   "source": [
    "vac_df['recip_county']=vac_df['recip_county'].apply(lambda x:x.replace(' County','').strip(''))"
   ]
  },
  {
   "cell_type": "code",
   "execution_count": 27,
   "metadata": {},
   "outputs": [],
   "source": [
    "# vac_df['date']=vac_df['date'].apply(lambda x:x.split('T')[0].strip())"
   ]
  },
  {
   "cell_type": "code",
   "execution_count": 28,
   "metadata": {},
   "outputs": [
    {
     "data": {
      "text/plain": [
       "array(['2021-09-15T00:00:00.000', '2021-09-16T00:00:00.000',\n",
       "       '2021-09-17T00:00:00.000', '2021-09-18T00:00:00.000',\n",
       "       '2021-09-19T00:00:00.000', '2021-09-20T00:00:00.000',\n",
       "       '2021-09-21T00:00:00.000', '2021-09-22T00:00:00.000',\n",
       "       '2021-09-23T00:00:00.000', '2021-09-24T00:00:00.000',\n",
       "       '2021-09-25T00:00:00.000'], dtype=object)"
      ]
     },
     "execution_count": 28,
     "metadata": {},
     "output_type": "execute_result"
    }
   ],
   "source": [
    "vac_df['date'].unique()"
   ]
  },
  {
   "cell_type": "code",
   "execution_count": 29,
   "metadata": {},
   "outputs": [],
   "source": [
    "vac_df['date']=pd.to_datetime(vac_df['date'])"
   ]
  },
  {
   "cell_type": "code",
   "execution_count": 30,
   "metadata": {},
   "outputs": [],
   "source": [
    "from dateutil import parser\n",
    "vac_df['date']=vac_df['date'].apply(lambda x: x.date())"
   ]
  },
  {
   "cell_type": "code",
   "execution_count": 31,
   "metadata": {},
   "outputs": [],
   "source": [
    "vac_df.rename(columns={'recip_state': 'state'}, inplace=True)\n",
    "vac_df.rename(columns={'recip_county': 'county'}, inplace=True)"
   ]
  },
  {
   "cell_type": "code",
   "execution_count": 32,
   "metadata": {},
   "outputs": [
    {
     "data": {
      "text/html": [
       "<div>\n",
       "<style scoped>\n",
       "    .dataframe tbody tr th:only-of-type {\n",
       "        vertical-align: middle;\n",
       "    }\n",
       "\n",
       "    .dataframe tbody tr th {\n",
       "        vertical-align: top;\n",
       "    }\n",
       "\n",
       "    .dataframe thead th {\n",
       "        text-align: right;\n",
       "    }\n",
       "</style>\n",
       "<table border=\"1\" class=\"dataframe\">\n",
       "  <thead>\n",
       "    <tr style=\"text-align: right;\">\n",
       "      <th></th>\n",
       "      <th>date</th>\n",
       "      <th>fips</th>\n",
       "      <th>mmwr_week</th>\n",
       "      <th>county</th>\n",
       "      <th>state</th>\n",
       "      <th>series_complete_pop_pct</th>\n",
       "      <th>series_complete_yes</th>\n",
       "      <th>series_complete_12plus</th>\n",
       "      <th>series_complete_12pluspop</th>\n",
       "      <th>series_complete_18plus</th>\n",
       "      <th>...</th>\n",
       "      <th>series_complete_pop_pct_svi</th>\n",
       "      <th>series_complete_12pluspop_pct_svi</th>\n",
       "      <th>series_complete_18pluspop_pct_svi</th>\n",
       "      <th>series_complete_65pluspop_pct_svi</th>\n",
       "      <th>metro_status</th>\n",
       "      <th>series_complete_pop_pct_ur_equity</th>\n",
       "      <th>series_complete_12pluspop_pct_ur_equity</th>\n",
       "      <th>series_complete_18pluspop_pct_ur_equity</th>\n",
       "      <th>series_complete_65pluspop_pct_ur_equity</th>\n",
       "      <th>county</th>\n",
       "    </tr>\n",
       "  </thead>\n",
       "  <tbody>\n",
       "    <tr>\n",
       "      <th>0</th>\n",
       "      <td>2021-09-15</td>\n",
       "      <td>42121</td>\n",
       "      <td>37</td>\n",
       "      <td>Venango</td>\n",
       "      <td>Pennsylvania</td>\n",
       "      <td>37.6</td>\n",
       "      <td>19065</td>\n",
       "      <td>19065</td>\n",
       "      <td>42.8</td>\n",
       "      <td>18324</td>\n",
       "      <td>...</td>\n",
       "      <td>6</td>\n",
       "      <td>7</td>\n",
       "      <td>7</td>\n",
       "      <td>7</td>\n",
       "      <td>Non-metro</td>\n",
       "      <td>6</td>\n",
       "      <td>7</td>\n",
       "      <td>7</td>\n",
       "      <td>7</td>\n",
       "      <td>Venango</td>\n",
       "    </tr>\n",
       "    <tr>\n",
       "      <th>1</th>\n",
       "      <td>2021-09-15</td>\n",
       "      <td>08045</td>\n",
       "      <td>37</td>\n",
       "      <td>Garfield</td>\n",
       "      <td>Colorado</td>\n",
       "      <td>52.6</td>\n",
       "      <td>31607</td>\n",
       "      <td>31502</td>\n",
       "      <td>62.8</td>\n",
       "      <td>29144</td>\n",
       "      <td>...</td>\n",
       "      <td>8</td>\n",
       "      <td>8</td>\n",
       "      <td>8</td>\n",
       "      <td>8</td>\n",
       "      <td>Non-metro</td>\n",
       "      <td>8</td>\n",
       "      <td>8</td>\n",
       "      <td>8</td>\n",
       "      <td>8</td>\n",
       "      <td>Garfield</td>\n",
       "    </tr>\n",
       "    <tr>\n",
       "      <th>2</th>\n",
       "      <td>2021-09-15</td>\n",
       "      <td>12097</td>\n",
       "      <td>37</td>\n",
       "      <td>Osceola</td>\n",
       "      <td>Florida</td>\n",
       "      <td>58.4</td>\n",
       "      <td>219602</td>\n",
       "      <td>219570</td>\n",
       "      <td>69.2</td>\n",
       "      <td>203066</td>\n",
       "      <td>...</td>\n",
       "      <td>16</td>\n",
       "      <td>16</td>\n",
       "      <td>16</td>\n",
       "      <td>16</td>\n",
       "      <td>Metro</td>\n",
       "      <td>4</td>\n",
       "      <td>4</td>\n",
       "      <td>4</td>\n",
       "      <td>4</td>\n",
       "      <td>Osceola</td>\n",
       "    </tr>\n",
       "    <tr>\n",
       "      <th>3</th>\n",
       "      <td>2021-09-15</td>\n",
       "      <td>30087</td>\n",
       "      <td>37</td>\n",
       "      <td>Rosebud</td>\n",
       "      <td>Montana</td>\n",
       "      <td>64.9</td>\n",
       "      <td>5800</td>\n",
       "      <td>5797</td>\n",
       "      <td>80.4</td>\n",
       "      <td>5277</td>\n",
       "      <td>...</td>\n",
       "      <td>12</td>\n",
       "      <td>12</td>\n",
       "      <td>12</td>\n",
       "      <td>12</td>\n",
       "      <td>Non-metro</td>\n",
       "      <td>8</td>\n",
       "      <td>8</td>\n",
       "      <td>8</td>\n",
       "      <td>8</td>\n",
       "      <td>Rosebud</td>\n",
       "    </tr>\n",
       "    <tr>\n",
       "      <th>4</th>\n",
       "      <td>2021-09-15</td>\n",
       "      <td>05117</td>\n",
       "      <td>37</td>\n",
       "      <td>Prairie</td>\n",
       "      <td>Arkansas</td>\n",
       "      <td>36</td>\n",
       "      <td>2903</td>\n",
       "      <td>2902</td>\n",
       "      <td>41.8</td>\n",
       "      <td>2778</td>\n",
       "      <td>...</td>\n",
       "      <td>10</td>\n",
       "      <td>11</td>\n",
       "      <td>11</td>\n",
       "      <td>11</td>\n",
       "      <td>Non-metro</td>\n",
       "      <td>6</td>\n",
       "      <td>7</td>\n",
       "      <td>7</td>\n",
       "      <td>7</td>\n",
       "      <td>Prairie</td>\n",
       "    </tr>\n",
       "  </tbody>\n",
       "</table>\n",
       "<p>5 rows × 33 columns</p>\n",
       "</div>"
      ],
      "text/plain": [
       "         date   fips mmwr_week    county         state  \\\n",
       "0  2021-09-15  42121        37   Venango  Pennsylvania   \n",
       "1  2021-09-15  08045        37  Garfield      Colorado   \n",
       "2  2021-09-15  12097        37   Osceola       Florida   \n",
       "3  2021-09-15  30087        37   Rosebud       Montana   \n",
       "4  2021-09-15  05117        37   Prairie      Arkansas   \n",
       "\n",
       "  series_complete_pop_pct series_complete_yes series_complete_12plus  \\\n",
       "0                    37.6               19065                  19065   \n",
       "1                    52.6               31607                  31502   \n",
       "2                    58.4              219602                 219570   \n",
       "3                    64.9                5800                   5797   \n",
       "4                      36                2903                   2902   \n",
       "\n",
       "  series_complete_12pluspop series_complete_18plus  ...  \\\n",
       "0                      42.8                  18324  ...   \n",
       "1                      62.8                  29144  ...   \n",
       "2                      69.2                 203066  ...   \n",
       "3                      80.4                   5277  ...   \n",
       "4                      41.8                   2778  ...   \n",
       "\n",
       "  series_complete_pop_pct_svi series_complete_12pluspop_pct_svi  \\\n",
       "0                           6                                 7   \n",
       "1                           8                                 8   \n",
       "2                          16                                16   \n",
       "3                          12                                12   \n",
       "4                          10                                11   \n",
       "\n",
       "  series_complete_18pluspop_pct_svi series_complete_65pluspop_pct_svi  \\\n",
       "0                                 7                                 7   \n",
       "1                                 8                                 8   \n",
       "2                                16                                16   \n",
       "3                                12                                12   \n",
       "4                                11                                11   \n",
       "\n",
       "  metro_status series_complete_pop_pct_ur_equity  \\\n",
       "0    Non-metro                                 6   \n",
       "1    Non-metro                                 8   \n",
       "2        Metro                                 4   \n",
       "3    Non-metro                                 8   \n",
       "4    Non-metro                                 6   \n",
       "\n",
       "  series_complete_12pluspop_pct_ur_equity  \\\n",
       "0                                       7   \n",
       "1                                       8   \n",
       "2                                       4   \n",
       "3                                       8   \n",
       "4                                       7   \n",
       "\n",
       "  series_complete_18pluspop_pct_ur_equity  \\\n",
       "0                                       7   \n",
       "1                                       8   \n",
       "2                                       4   \n",
       "3                                       8   \n",
       "4                                       7   \n",
       "\n",
       "  series_complete_65pluspop_pct_ur_equity    county  \n",
       "0                                       7   Venango  \n",
       "1                                       8  Garfield  \n",
       "2                                       4   Osceola  \n",
       "3                                       8   Rosebud  \n",
       "4                                       7   Prairie  \n",
       "\n",
       "[5 rows x 33 columns]"
      ]
     },
     "execution_count": 32,
     "metadata": {},
     "output_type": "execute_result"
    }
   ],
   "source": [
    "vac_df.head()"
   ]
  },
  {
   "cell_type": "markdown",
   "metadata": {},
   "source": [
    "### Integrate vaccination & cases"
   ]
  },
  {
   "cell_type": "code",
   "execution_count": null,
   "metadata": {},
   "outputs": [],
   "source": [
    "new_df.head(1)"
   ]
  },
  {
   "cell_type": "code",
   "execution_count": null,
   "metadata": {
    "scrolled": true
   },
   "outputs": [],
   "source": [
    "vac_df.head(1)"
   ]
  },
  {
   "cell_type": "code",
   "execution_count": null,
   "metadata": {},
   "outputs": [],
   "source": [
    "new_df.shape"
   ]
  },
  {
   "cell_type": "code",
   "execution_count": null,
   "metadata": {},
   "outputs": [],
   "source": [
    "vac_df.shape"
   ]
  },
  {
   "cell_type": "code",
   "execution_count": null,
   "metadata": {},
   "outputs": [],
   "source": [
    "vac_df['date'].unique()"
   ]
  },
  {
   "cell_type": "markdown",
   "metadata": {},
   "source": [
    "## Mobility"
   ]
  },
  {
   "cell_type": "markdown",
   "metadata": {},
   "source": [
    "https://stackoverflow.com/questions/5710867/downloading-and-unzipping-a-zip-file-without-writing-to-disk"
   ]
  },
  {
   "cell_type": "code",
   "execution_count": 33,
   "metadata": {},
   "outputs": [],
   "source": [
    "from io import BytesIO\n",
    "from zipfile import ZipFile\n",
    "from urllib.request import urlopen\n",
    "import pandas as pd"
   ]
  },
  {
   "cell_type": "code",
   "execution_count": 34,
   "metadata": {},
   "outputs": [],
   "source": [
    "url=r'https://www.gstatic.com/covid19/mobility/Region_Mobility_Report_CSVs.zip'"
   ]
  },
  {
   "cell_type": "code",
   "execution_count": 35,
   "metadata": {},
   "outputs": [],
   "source": [
    "from io import BytesIO\n",
    "from zipfile import ZipFile\n",
    "import pandas\n",
    "import requests\n",
    "\n",
    "url=r'https://www.gstatic.com/covid19/mobility/Region_Mobility_Report_CSVs.zip'\n",
    "content = requests.get(url)\n",
    "zf = ZipFile(BytesIO(content.content))"
   ]
  },
  {
   "cell_type": "code",
   "execution_count": 36,
   "metadata": {},
   "outputs": [],
   "source": [
    "# find the first matching csv file in the zip:\n",
    "match = [s for s in zf.namelist() if \"2021_US_Region_Mobility_Report.csv\" in s][0]\n",
    "# match=['2021_US_Region_Mobility_Report.csv']\n",
    "# the first line of the file contains a string - that line shall de     ignored, hence skiprows\n",
    "mobility_df = pandas.read_csv(zf.open(match), low_memory=False, skiprows=[1] )"
   ]
  },
  {
   "cell_type": "code",
   "execution_count": 37,
   "metadata": {
    "scrolled": true
   },
   "outputs": [
    {
     "data": {
      "text/html": [
       "<div>\n",
       "<style scoped>\n",
       "    .dataframe tbody tr th:only-of-type {\n",
       "        vertical-align: middle;\n",
       "    }\n",
       "\n",
       "    .dataframe tbody tr th {\n",
       "        vertical-align: top;\n",
       "    }\n",
       "\n",
       "    .dataframe thead th {\n",
       "        text-align: right;\n",
       "    }\n",
       "</style>\n",
       "<table border=\"1\" class=\"dataframe\">\n",
       "  <thead>\n",
       "    <tr style=\"text-align: right;\">\n",
       "      <th></th>\n",
       "      <th>country_region_code</th>\n",
       "      <th>country_region</th>\n",
       "      <th>sub_region_1</th>\n",
       "      <th>sub_region_2</th>\n",
       "      <th>metro_area</th>\n",
       "      <th>iso_3166_2_code</th>\n",
       "      <th>census_fips_code</th>\n",
       "      <th>place_id</th>\n",
       "      <th>date</th>\n",
       "      <th>retail_and_recreation_percent_change_from_baseline</th>\n",
       "      <th>grocery_and_pharmacy_percent_change_from_baseline</th>\n",
       "      <th>parks_percent_change_from_baseline</th>\n",
       "      <th>transit_stations_percent_change_from_baseline</th>\n",
       "      <th>workplaces_percent_change_from_baseline</th>\n",
       "      <th>residential_percent_change_from_baseline</th>\n",
       "    </tr>\n",
       "  </thead>\n",
       "  <tbody>\n",
       "    <tr>\n",
       "      <th>0</th>\n",
       "      <td>US</td>\n",
       "      <td>United States</td>\n",
       "      <td>NaN</td>\n",
       "      <td>NaN</td>\n",
       "      <td>NaN</td>\n",
       "      <td>NaN</td>\n",
       "      <td>NaN</td>\n",
       "      <td>ChIJCzYy5IS16lQRQrfeQ5K5Oxw</td>\n",
       "      <td>2021-01-02</td>\n",
       "      <td>-26.0</td>\n",
       "      <td>-13.0</td>\n",
       "      <td>-14.0</td>\n",
       "      <td>-33.0</td>\n",
       "      <td>-21.0</td>\n",
       "      <td>9.0</td>\n",
       "    </tr>\n",
       "    <tr>\n",
       "      <th>1</th>\n",
       "      <td>US</td>\n",
       "      <td>United States</td>\n",
       "      <td>NaN</td>\n",
       "      <td>NaN</td>\n",
       "      <td>NaN</td>\n",
       "      <td>NaN</td>\n",
       "      <td>NaN</td>\n",
       "      <td>ChIJCzYy5IS16lQRQrfeQ5K5Oxw</td>\n",
       "      <td>2021-01-03</td>\n",
       "      <td>-27.0</td>\n",
       "      <td>-16.0</td>\n",
       "      <td>-24.0</td>\n",
       "      <td>-33.0</td>\n",
       "      <td>-17.0</td>\n",
       "      <td>7.0</td>\n",
       "    </tr>\n",
       "    <tr>\n",
       "      <th>2</th>\n",
       "      <td>US</td>\n",
       "      <td>United States</td>\n",
       "      <td>NaN</td>\n",
       "      <td>NaN</td>\n",
       "      <td>NaN</td>\n",
       "      <td>NaN</td>\n",
       "      <td>NaN</td>\n",
       "      <td>ChIJCzYy5IS16lQRQrfeQ5K5Oxw</td>\n",
       "      <td>2021-01-04</td>\n",
       "      <td>-19.0</td>\n",
       "      <td>-8.0</td>\n",
       "      <td>-23.0</td>\n",
       "      <td>-39.0</td>\n",
       "      <td>-34.0</td>\n",
       "      <td>12.0</td>\n",
       "    </tr>\n",
       "    <tr>\n",
       "      <th>3</th>\n",
       "      <td>US</td>\n",
       "      <td>United States</td>\n",
       "      <td>NaN</td>\n",
       "      <td>NaN</td>\n",
       "      <td>NaN</td>\n",
       "      <td>NaN</td>\n",
       "      <td>NaN</td>\n",
       "      <td>ChIJCzYy5IS16lQRQrfeQ5K5Oxw</td>\n",
       "      <td>2021-01-05</td>\n",
       "      <td>-20.0</td>\n",
       "      <td>-6.0</td>\n",
       "      <td>-20.0</td>\n",
       "      <td>-39.0</td>\n",
       "      <td>-34.0</td>\n",
       "      <td>12.0</td>\n",
       "    </tr>\n",
       "    <tr>\n",
       "      <th>4</th>\n",
       "      <td>US</td>\n",
       "      <td>United States</td>\n",
       "      <td>NaN</td>\n",
       "      <td>NaN</td>\n",
       "      <td>NaN</td>\n",
       "      <td>NaN</td>\n",
       "      <td>NaN</td>\n",
       "      <td>ChIJCzYy5IS16lQRQrfeQ5K5Oxw</td>\n",
       "      <td>2021-01-06</td>\n",
       "      <td>-22.0</td>\n",
       "      <td>-11.0</td>\n",
       "      <td>-22.0</td>\n",
       "      <td>-41.0</td>\n",
       "      <td>-33.0</td>\n",
       "      <td>13.0</td>\n",
       "    </tr>\n",
       "  </tbody>\n",
       "</table>\n",
       "</div>"
      ],
      "text/plain": [
       "  country_region_code country_region sub_region_1 sub_region_2  metro_area  \\\n",
       "0                  US  United States          NaN          NaN         NaN   \n",
       "1                  US  United States          NaN          NaN         NaN   \n",
       "2                  US  United States          NaN          NaN         NaN   \n",
       "3                  US  United States          NaN          NaN         NaN   \n",
       "4                  US  United States          NaN          NaN         NaN   \n",
       "\n",
       "  iso_3166_2_code  census_fips_code                     place_id        date  \\\n",
       "0             NaN               NaN  ChIJCzYy5IS16lQRQrfeQ5K5Oxw  2021-01-02   \n",
       "1             NaN               NaN  ChIJCzYy5IS16lQRQrfeQ5K5Oxw  2021-01-03   \n",
       "2             NaN               NaN  ChIJCzYy5IS16lQRQrfeQ5K5Oxw  2021-01-04   \n",
       "3             NaN               NaN  ChIJCzYy5IS16lQRQrfeQ5K5Oxw  2021-01-05   \n",
       "4             NaN               NaN  ChIJCzYy5IS16lQRQrfeQ5K5Oxw  2021-01-06   \n",
       "\n",
       "   retail_and_recreation_percent_change_from_baseline  \\\n",
       "0                                              -26.0    \n",
       "1                                              -27.0    \n",
       "2                                              -19.0    \n",
       "3                                              -20.0    \n",
       "4                                              -22.0    \n",
       "\n",
       "   grocery_and_pharmacy_percent_change_from_baseline  \\\n",
       "0                                              -13.0   \n",
       "1                                              -16.0   \n",
       "2                                               -8.0   \n",
       "3                                               -6.0   \n",
       "4                                              -11.0   \n",
       "\n",
       "   parks_percent_change_from_baseline  \\\n",
       "0                               -14.0   \n",
       "1                               -24.0   \n",
       "2                               -23.0   \n",
       "3                               -20.0   \n",
       "4                               -22.0   \n",
       "\n",
       "   transit_stations_percent_change_from_baseline  \\\n",
       "0                                          -33.0   \n",
       "1                                          -33.0   \n",
       "2                                          -39.0   \n",
       "3                                          -39.0   \n",
       "4                                          -41.0   \n",
       "\n",
       "   workplaces_percent_change_from_baseline  \\\n",
       "0                                    -21.0   \n",
       "1                                    -17.0   \n",
       "2                                    -34.0   \n",
       "3                                    -34.0   \n",
       "4                                    -33.0   \n",
       "\n",
       "   residential_percent_change_from_baseline  \n",
       "0                                       9.0  \n",
       "1                                       7.0  \n",
       "2                                      12.0  \n",
       "3                                      12.0  \n",
       "4                                      13.0  "
      ]
     },
     "execution_count": 37,
     "metadata": {},
     "output_type": "execute_result"
    }
   ],
   "source": [
    "mobility_df.head()"
   ]
  },
  {
   "cell_type": "code",
   "execution_count": 38,
   "metadata": {},
   "outputs": [],
   "source": [
    "mobility_df['date']=pd.to_datetime(mobility_df['date'])"
   ]
  },
  {
   "cell_type": "code",
   "execution_count": 39,
   "metadata": {},
   "outputs": [],
   "source": [
    "mask = mobility_df[\"date\"] >= str(check_date)\n",
    "new_mobility_df=mobility_df[mask]"
   ]
  },
  {
   "cell_type": "code",
   "execution_count": 40,
   "metadata": {},
   "outputs": [],
   "source": [
    "final_mobility_df=new_mobility_df[['sub_region_1','sub_region_2','date','retail_and_recreation_percent_change_from_baseline','grocery_and_pharmacy_percent_change_from_baseline','parks_percent_change_from_baseline','transit_stations_percent_change_from_baseline','workplaces_percent_change_from_baseline','residential_percent_change_from_baseline']]"
   ]
  },
  {
   "cell_type": "code",
   "execution_count": 41,
   "metadata": {},
   "outputs": [
    {
     "data": {
      "text/html": [
       "<div>\n",
       "<style scoped>\n",
       "    .dataframe tbody tr th:only-of-type {\n",
       "        vertical-align: middle;\n",
       "    }\n",
       "\n",
       "    .dataframe tbody tr th {\n",
       "        vertical-align: top;\n",
       "    }\n",
       "\n",
       "    .dataframe thead th {\n",
       "        text-align: right;\n",
       "    }\n",
       "</style>\n",
       "<table border=\"1\" class=\"dataframe\">\n",
       "  <thead>\n",
       "    <tr style=\"text-align: right;\">\n",
       "      <th></th>\n",
       "      <th>sub_region_1</th>\n",
       "      <th>sub_region_2</th>\n",
       "      <th>date</th>\n",
       "      <th>retail_and_recreation_percent_change_from_baseline</th>\n",
       "      <th>grocery_and_pharmacy_percent_change_from_baseline</th>\n",
       "      <th>parks_percent_change_from_baseline</th>\n",
       "      <th>transit_stations_percent_change_from_baseline</th>\n",
       "      <th>workplaces_percent_change_from_baseline</th>\n",
       "      <th>residential_percent_change_from_baseline</th>\n",
       "    </tr>\n",
       "  </thead>\n",
       "  <tbody>\n",
       "    <tr>\n",
       "      <th>256</th>\n",
       "      <td>NaN</td>\n",
       "      <td>NaN</td>\n",
       "      <td>2021-09-15</td>\n",
       "      <td>-3.0</td>\n",
       "      <td>4.0</td>\n",
       "      <td>27.0</td>\n",
       "      <td>-22.0</td>\n",
       "      <td>-27.0</td>\n",
       "      <td>5.0</td>\n",
       "    </tr>\n",
       "    <tr>\n",
       "      <th>257</th>\n",
       "      <td>NaN</td>\n",
       "      <td>NaN</td>\n",
       "      <td>2021-09-16</td>\n",
       "      <td>-5.0</td>\n",
       "      <td>3.0</td>\n",
       "      <td>32.0</td>\n",
       "      <td>-22.0</td>\n",
       "      <td>-28.0</td>\n",
       "      <td>6.0</td>\n",
       "    </tr>\n",
       "    <tr>\n",
       "      <th>258</th>\n",
       "      <td>NaN</td>\n",
       "      <td>NaN</td>\n",
       "      <td>2021-09-17</td>\n",
       "      <td>-7.0</td>\n",
       "      <td>-1.0</td>\n",
       "      <td>29.0</td>\n",
       "      <td>-19.0</td>\n",
       "      <td>-27.0</td>\n",
       "      <td>4.0</td>\n",
       "    </tr>\n",
       "    <tr>\n",
       "      <th>259</th>\n",
       "      <td>NaN</td>\n",
       "      <td>NaN</td>\n",
       "      <td>2021-09-18</td>\n",
       "      <td>-5.0</td>\n",
       "      <td>1.0</td>\n",
       "      <td>59.0</td>\n",
       "      <td>-13.0</td>\n",
       "      <td>-11.0</td>\n",
       "      <td>1.0</td>\n",
       "    </tr>\n",
       "    <tr>\n",
       "      <th>260</th>\n",
       "      <td>NaN</td>\n",
       "      <td>NaN</td>\n",
       "      <td>2021-09-19</td>\n",
       "      <td>-5.0</td>\n",
       "      <td>0.0</td>\n",
       "      <td>39.0</td>\n",
       "      <td>-11.0</td>\n",
       "      <td>-13.0</td>\n",
       "      <td>1.0</td>\n",
       "    </tr>\n",
       "  </tbody>\n",
       "</table>\n",
       "</div>"
      ],
      "text/plain": [
       "    sub_region_1 sub_region_2       date  \\\n",
       "256          NaN          NaN 2021-09-15   \n",
       "257          NaN          NaN 2021-09-16   \n",
       "258          NaN          NaN 2021-09-17   \n",
       "259          NaN          NaN 2021-09-18   \n",
       "260          NaN          NaN 2021-09-19   \n",
       "\n",
       "     retail_and_recreation_percent_change_from_baseline  \\\n",
       "256                                               -3.0    \n",
       "257                                               -5.0    \n",
       "258                                               -7.0    \n",
       "259                                               -5.0    \n",
       "260                                               -5.0    \n",
       "\n",
       "     grocery_and_pharmacy_percent_change_from_baseline  \\\n",
       "256                                                4.0   \n",
       "257                                                3.0   \n",
       "258                                               -1.0   \n",
       "259                                                1.0   \n",
       "260                                                0.0   \n",
       "\n",
       "     parks_percent_change_from_baseline  \\\n",
       "256                                27.0   \n",
       "257                                32.0   \n",
       "258                                29.0   \n",
       "259                                59.0   \n",
       "260                                39.0   \n",
       "\n",
       "     transit_stations_percent_change_from_baseline  \\\n",
       "256                                          -22.0   \n",
       "257                                          -22.0   \n",
       "258                                          -19.0   \n",
       "259                                          -13.0   \n",
       "260                                          -11.0   \n",
       "\n",
       "     workplaces_percent_change_from_baseline  \\\n",
       "256                                    -27.0   \n",
       "257                                    -28.0   \n",
       "258                                    -27.0   \n",
       "259                                    -11.0   \n",
       "260                                    -13.0   \n",
       "\n",
       "     residential_percent_change_from_baseline  \n",
       "256                                       5.0  \n",
       "257                                       6.0  \n",
       "258                                       4.0  \n",
       "259                                       1.0  \n",
       "260                                       1.0  "
      ]
     },
     "execution_count": 41,
     "metadata": {},
     "output_type": "execute_result"
    }
   ],
   "source": [
    "final_mobility_df.head()"
   ]
  },
  {
   "cell_type": "code",
   "execution_count": 42,
   "metadata": {},
   "outputs": [
    {
     "data": {
      "text/plain": [
       "Index(['sub_region_1', 'sub_region_2', 'date',\n",
       "       'retail_and_recreation_percent_change_from_baseline',\n",
       "       'grocery_and_pharmacy_percent_change_from_baseline',\n",
       "       'parks_percent_change_from_baseline',\n",
       "       'transit_stations_percent_change_from_baseline',\n",
       "       'workplaces_percent_change_from_baseline',\n",
       "       'residential_percent_change_from_baseline'],\n",
       "      dtype='object')"
      ]
     },
     "execution_count": 42,
     "metadata": {},
     "output_type": "execute_result"
    }
   ],
   "source": [
    "final_mobility_df.columns"
   ]
  },
  {
   "cell_type": "code",
   "execution_count": 46,
   "metadata": {},
   "outputs": [
    {
     "name": "stderr",
     "output_type": "stream",
     "text": [
      "C:\\Users\\Ajay\\AppData\\Roaming\\Python\\Python37\\site-packages\\pandas\\core\\frame.py:5042: SettingWithCopyWarning: \n",
      "A value is trying to be set on a copy of a slice from a DataFrame\n",
      "\n",
      "See the caveats in the documentation: https://pandas.pydata.org/pandas-docs/stable/user_guide/indexing.html#returning-a-view-versus-a-copy\n",
      "  errors=errors,\n"
     ]
    }
   ],
   "source": [
    "final_mobility_df.rename(columns={'sub_region_1': 'state'}, inplace=True)\n",
    "final_mobility_df.rename(columns={'sub_region_2': 'county'}, inplace=True)"
   ]
  },
  {
   "cell_type": "code",
   "execution_count": 45,
   "metadata": {},
   "outputs": [
    {
     "ename": "KeyError",
     "evalue": "'county'",
     "output_type": "error",
     "traceback": [
      "\u001b[1;31m---------------------------------------------------------------------------\u001b[0m",
      "\u001b[1;31mKeyError\u001b[0m                                  Traceback (most recent call last)",
      "\u001b[1;32m~\\AppData\\Roaming\\Python\\Python37\\site-packages\\pandas\\core\\indexes\\base.py\u001b[0m in \u001b[0;36mget_loc\u001b[1;34m(self, key, method, tolerance)\u001b[0m\n\u001b[0;32m   3360\u001b[0m             \u001b[1;32mtry\u001b[0m\u001b[1;33m:\u001b[0m\u001b[1;33m\u001b[0m\u001b[1;33m\u001b[0m\u001b[0m\n\u001b[1;32m-> 3361\u001b[1;33m                 \u001b[1;32mreturn\u001b[0m \u001b[0mself\u001b[0m\u001b[1;33m.\u001b[0m\u001b[0m_engine\u001b[0m\u001b[1;33m.\u001b[0m\u001b[0mget_loc\u001b[0m\u001b[1;33m(\u001b[0m\u001b[0mcasted_key\u001b[0m\u001b[1;33m)\u001b[0m\u001b[1;33m\u001b[0m\u001b[1;33m\u001b[0m\u001b[0m\n\u001b[0m\u001b[0;32m   3362\u001b[0m             \u001b[1;32mexcept\u001b[0m \u001b[0mKeyError\u001b[0m \u001b[1;32mas\u001b[0m \u001b[0merr\u001b[0m\u001b[1;33m:\u001b[0m\u001b[1;33m\u001b[0m\u001b[1;33m\u001b[0m\u001b[0m\n",
      "\u001b[1;32m~\\AppData\\Roaming\\Python\\Python37\\site-packages\\pandas\\_libs\\index.pyx\u001b[0m in \u001b[0;36mpandas._libs.index.IndexEngine.get_loc\u001b[1;34m()\u001b[0m\n",
      "\u001b[1;32m~\\AppData\\Roaming\\Python\\Python37\\site-packages\\pandas\\_libs\\index.pyx\u001b[0m in \u001b[0;36mpandas._libs.index.IndexEngine.get_loc\u001b[1;34m()\u001b[0m\n",
      "\u001b[1;32mpandas\\_libs\\hashtable_class_helper.pxi\u001b[0m in \u001b[0;36mpandas._libs.hashtable.PyObjectHashTable.get_item\u001b[1;34m()\u001b[0m\n",
      "\u001b[1;32mpandas\\_libs\\hashtable_class_helper.pxi\u001b[0m in \u001b[0;36mpandas._libs.hashtable.PyObjectHashTable.get_item\u001b[1;34m()\u001b[0m\n",
      "\u001b[1;31mKeyError\u001b[0m: 'county'",
      "\nThe above exception was the direct cause of the following exception:\n",
      "\u001b[1;31mKeyError\u001b[0m                                  Traceback (most recent call last)",
      "\u001b[1;32m<ipython-input-45-45e64b06c11e>\u001b[0m in \u001b[0;36m<module>\u001b[1;34m\u001b[0m\n\u001b[1;32m----> 1\u001b[1;33m \u001b[0mfinal_mobility_df\u001b[0m\u001b[1;33m[\u001b[0m\u001b[1;34m'county'\u001b[0m\u001b[1;33m]\u001b[0m\u001b[1;33m.\u001b[0m\u001b[0munique\u001b[0m\u001b[1;33m(\u001b[0m\u001b[1;33m)\u001b[0m\u001b[1;33m\u001b[0m\u001b[1;33m\u001b[0m\u001b[0m\n\u001b[0m",
      "\u001b[1;32m~\\AppData\\Roaming\\Python\\Python37\\site-packages\\pandas\\core\\frame.py\u001b[0m in \u001b[0;36m__getitem__\u001b[1;34m(self, key)\u001b[0m\n\u001b[0;32m   3453\u001b[0m             \u001b[1;32mif\u001b[0m \u001b[0mself\u001b[0m\u001b[1;33m.\u001b[0m\u001b[0mcolumns\u001b[0m\u001b[1;33m.\u001b[0m\u001b[0mnlevels\u001b[0m \u001b[1;33m>\u001b[0m \u001b[1;36m1\u001b[0m\u001b[1;33m:\u001b[0m\u001b[1;33m\u001b[0m\u001b[1;33m\u001b[0m\u001b[0m\n\u001b[0;32m   3454\u001b[0m                 \u001b[1;32mreturn\u001b[0m \u001b[0mself\u001b[0m\u001b[1;33m.\u001b[0m\u001b[0m_getitem_multilevel\u001b[0m\u001b[1;33m(\u001b[0m\u001b[0mkey\u001b[0m\u001b[1;33m)\u001b[0m\u001b[1;33m\u001b[0m\u001b[1;33m\u001b[0m\u001b[0m\n\u001b[1;32m-> 3455\u001b[1;33m             \u001b[0mindexer\u001b[0m \u001b[1;33m=\u001b[0m \u001b[0mself\u001b[0m\u001b[1;33m.\u001b[0m\u001b[0mcolumns\u001b[0m\u001b[1;33m.\u001b[0m\u001b[0mget_loc\u001b[0m\u001b[1;33m(\u001b[0m\u001b[0mkey\u001b[0m\u001b[1;33m)\u001b[0m\u001b[1;33m\u001b[0m\u001b[1;33m\u001b[0m\u001b[0m\n\u001b[0m\u001b[0;32m   3456\u001b[0m             \u001b[1;32mif\u001b[0m \u001b[0mis_integer\u001b[0m\u001b[1;33m(\u001b[0m\u001b[0mindexer\u001b[0m\u001b[1;33m)\u001b[0m\u001b[1;33m:\u001b[0m\u001b[1;33m\u001b[0m\u001b[1;33m\u001b[0m\u001b[0m\n\u001b[0;32m   3457\u001b[0m                 \u001b[0mindexer\u001b[0m \u001b[1;33m=\u001b[0m \u001b[1;33m[\u001b[0m\u001b[0mindexer\u001b[0m\u001b[1;33m]\u001b[0m\u001b[1;33m\u001b[0m\u001b[1;33m\u001b[0m\u001b[0m\n",
      "\u001b[1;32m~\\AppData\\Roaming\\Python\\Python37\\site-packages\\pandas\\core\\indexes\\base.py\u001b[0m in \u001b[0;36mget_loc\u001b[1;34m(self, key, method, tolerance)\u001b[0m\n\u001b[0;32m   3361\u001b[0m                 \u001b[1;32mreturn\u001b[0m \u001b[0mself\u001b[0m\u001b[1;33m.\u001b[0m\u001b[0m_engine\u001b[0m\u001b[1;33m.\u001b[0m\u001b[0mget_loc\u001b[0m\u001b[1;33m(\u001b[0m\u001b[0mcasted_key\u001b[0m\u001b[1;33m)\u001b[0m\u001b[1;33m\u001b[0m\u001b[1;33m\u001b[0m\u001b[0m\n\u001b[0;32m   3362\u001b[0m             \u001b[1;32mexcept\u001b[0m \u001b[0mKeyError\u001b[0m \u001b[1;32mas\u001b[0m \u001b[0merr\u001b[0m\u001b[1;33m:\u001b[0m\u001b[1;33m\u001b[0m\u001b[1;33m\u001b[0m\u001b[0m\n\u001b[1;32m-> 3363\u001b[1;33m                 \u001b[1;32mraise\u001b[0m \u001b[0mKeyError\u001b[0m\u001b[1;33m(\u001b[0m\u001b[0mkey\u001b[0m\u001b[1;33m)\u001b[0m \u001b[1;32mfrom\u001b[0m \u001b[0merr\u001b[0m\u001b[1;33m\u001b[0m\u001b[1;33m\u001b[0m\u001b[0m\n\u001b[0m\u001b[0;32m   3364\u001b[0m \u001b[1;33m\u001b[0m\u001b[0m\n\u001b[0;32m   3365\u001b[0m         \u001b[1;32mif\u001b[0m \u001b[0mis_scalar\u001b[0m\u001b[1;33m(\u001b[0m\u001b[0mkey\u001b[0m\u001b[1;33m)\u001b[0m \u001b[1;32mand\u001b[0m \u001b[0misna\u001b[0m\u001b[1;33m(\u001b[0m\u001b[0mkey\u001b[0m\u001b[1;33m)\u001b[0m \u001b[1;32mand\u001b[0m \u001b[1;32mnot\u001b[0m \u001b[0mself\u001b[0m\u001b[1;33m.\u001b[0m\u001b[0mhasnans\u001b[0m\u001b[1;33m:\u001b[0m\u001b[1;33m\u001b[0m\u001b[1;33m\u001b[0m\u001b[0m\n",
      "\u001b[1;31mKeyError\u001b[0m: 'county'"
     ]
    }
   ],
   "source": [
    "final_mobility_df['county'].unique()"
   ]
  },
  {
   "cell_type": "code",
   "execution_count": null,
   "metadata": {},
   "outputs": [],
   "source": [
    "# df['retail_and_recreation_percent_change_from_baseline']+df['grocery_and_pharmacy_percent_change_from_baseline']+df['parks_percent_change_from_baseline']+df['transit_stations_percent_change_from_baseline']+df['workplaces_percent_change_from_baseline']+df['residential_percent_change_from_baseline']"
   ]
  },
  {
   "cell_type": "code",
   "execution_count": null,
   "metadata": {},
   "outputs": [],
   "source": [
    "# final_mobility_df['check']=final_mobility_df[['retail_and_recreation_percent_change_from_baseline','grocery_and_pharmacy_percent_change_from_baseline','parks_percent_change_from_baseline','transit_stations_percent_change_from_baseline','workplaces_percent_change_from_baseline','residential_percent_change_from_baseline']].sum(axis=1)"
   ]
  },
  {
   "cell_type": "code",
   "execution_count": null,
   "metadata": {},
   "outputs": [],
   "source": [
    "final_mobility_df.rename(columns={'sub_region_1': 'state'}, inplace=True)\n",
    "final_mobility_df.rename(columns={'sub_region_2': 'county'}, inplace=True)"
   ]
  },
  {
   "cell_type": "code",
   "execution_count": null,
   "metadata": {},
   "outputs": [],
   "source": [
    "final_mobility_df.head(20)"
   ]
  },
  {
   "cell_type": "code",
   "execution_count": null,
   "metadata": {},
   "outputs": [],
   "source": []
  },
  {
   "cell_type": "code",
   "execution_count": null,
   "metadata": {},
   "outputs": [],
   "source": [
    "final_mobility_df=new_mobility_df[['retail_and_recreation_percent_change_from_baseline','grocery_and_pharmacy_percent_change_from_baseline','parks_percent_change_from_baseline','transit_stations_percent_change_from_baseline','workplaces_percent_change_from_baseline','residential_percent_change_from_baseline']].sum(axis=1)\n",
    "# final_mobility_df['Mobility']=df['retail_and_recreation_percent_change_from_baseline']+df['grocery_and_pharmacy_percent_change_from_baseline']+df['parks_percent_change_from_baseline']+df['transit_stations_percent_change_from_baseline']+df['workplaces_percent_change_from_baseline']+df['residential_percent_change_from_baseline']"
   ]
  },
  {
   "cell_type": "code",
   "execution_count": null,
   "metadata": {},
   "outputs": [],
   "source": [
    "final_mobility_df.head(20)"
   ]
  },
  {
   "cell_type": "code",
   "execution_count": null,
   "metadata": {},
   "outputs": [],
   "source": [
    "# pd.concat([new_df,vac_df], axis=0, join='inner', ignore_index=False, keys=None, levels=None, names=None, verify_integrity=True, sort=False).shape"
   ]
  },
  {
   "cell_type": "code",
   "execution_count": null,
   "metadata": {},
   "outputs": [],
   "source": [
    "# new_df.merge(vac_df, how='inner', on=['date','county','state'], left_on=None, right_on=None, left_index=False, right_index=False, sort=False, suffixes=('_x', '_y'), copy=True, indicator=False, validate=None)"
   ]
  },
  {
   "cell_type": "code",
   "execution_count": null,
   "metadata": {},
   "outputs": [],
   "source": [
    "# vac_df.head()"
   ]
  },
  {
   "cell_type": "code",
   "execution_count": null,
   "metadata": {},
   "outputs": [],
   "source": [
    "# print(parser.parse(vac_df['date'][0]))"
   ]
  },
  {
   "cell_type": "code",
   "execution_count": null,
   "metadata": {},
   "outputs": [],
   "source": [
    "# vac_df['date'][0]"
   ]
  },
  {
   "cell_type": "code",
   "execution_count": null,
   "metadata": {},
   "outputs": [],
   "source": [
    "# print(datetime.strptime(vac_df['date'][0], '%Y-%m-%d').date())"
   ]
  },
  {
   "cell_type": "code",
   "execution_count": null,
   "metadata": {},
   "outputs": [],
   "source": [
    "# for index,row in vac_df.iterrows():\n",
    "#     print(row['date'])\n",
    "#     row['date']=datetime.strptime(str(row['date']), '%Y-%m-%d').date()"
   ]
  },
  {
   "cell_type": "code",
   "execution_count": null,
   "metadata": {},
   "outputs": [],
   "source": [
    "# vac_df['date'][0]"
   ]
  },
  {
   "cell_type": "code",
   "execution_count": null,
   "metadata": {},
   "outputs": [],
   "source": [
    "# from dateutil import parser\n",
    "# vac_df['date']=vac_df['date'].apply(lambda x: datetime.strptime(x, '%Y-%m-%d'))"
   ]
  },
  {
   "cell_type": "code",
   "execution_count": null,
   "metadata": {},
   "outputs": [],
   "source": [
    "# vac_df['date']=vac_df['date'].apply(lambda x: x.date())"
   ]
  },
  {
   "cell_type": "code",
   "execution_count": null,
   "metadata": {},
   "outputs": [],
   "source": [
    "# vac_df['date'].unique()"
   ]
  },
  {
   "cell_type": "code",
   "execution_count": null,
   "metadata": {},
   "outputs": [],
   "source": [
    "# lastday=lastest_date.date()"
   ]
  },
  {
   "cell_type": "code",
   "execution_count": null,
   "metadata": {},
   "outputs": [],
   "source": [
    "# check_date1='2021-09-18'\n",
    "# url=r\"https://data.cdc.gov/resource/8xkx-amqh.csv?$where=date between '\"+str(check_date1)+\"' and '\"+str(lastday)+\"'\"\n",
    "# url"
   ]
  },
  {
   "cell_type": "code",
   "execution_count": null,
   "metadata": {},
   "outputs": [],
   "source": [
    "#  url=\"https://data.cdc.gov/resource/8xkx-amqh.csv?$where=date between '2021-09-10T12:00:00' and '2021-09-25T12:00:00'\""
   ]
  },
  {
   "cell_type": "code",
   "execution_count": null,
   "metadata": {},
   "outputs": [],
   "source": [
    "# url=r\"https://data.cdc.gov/resource/8xkx-amqh.csv?$where=date>'\"+str(check_date)+\"'\"\n",
    "# url"
   ]
  },
  {
   "cell_type": "markdown",
   "metadata": {},
   "source": [
    "JSON"
   ]
  },
  {
   "cell_type": "code",
   "execution_count": null,
   "metadata": {},
   "outputs": [],
   "source": [
    "# check_date1='2021-09-18'\n",
    "# url=r\"https://data.cdc.gov/resource/8xkx-amqh.json\"\n",
    "# req = requests.get(url)\n",
    "# url_content = req.content\n",
    "# csv_file = open('vacination.json', 'wb')\n",
    "# csv_file.write(url_content)\n",
    "# csv_file.close()"
   ]
  },
  {
   "cell_type": "code",
   "execution_count": null,
   "metadata": {},
   "outputs": [],
   "source": [
    "# df_new=pd.read_json('vacination.json')"
   ]
  },
  {
   "cell_type": "code",
   "execution_count": null,
   "metadata": {},
   "outputs": [],
   "source": [
    "# df_new['date'].unique()"
   ]
  },
  {
   "cell_type": "code",
   "execution_count": null,
   "metadata": {},
   "outputs": [],
   "source": [
    "# req = requests.get(url)\n",
    "# url_content = req.content\n",
    "# csv_file = open('vacination.csv', 'wb')\n",
    "# csv_file.write(url_content)\n",
    "# csv_file.close()"
   ]
  },
  {
   "cell_type": "code",
   "execution_count": null,
   "metadata": {},
   "outputs": [],
   "source": [
    "# vac_df=pd.read_csv('vacination.csv')"
   ]
  },
  {
   "cell_type": "code",
   "execution_count": null,
   "metadata": {},
   "outputs": [],
   "source": [
    "# vac_df['date'].unique()"
   ]
  },
  {
   "cell_type": "code",
   "execution_count": null,
   "metadata": {},
   "outputs": [],
   "source": [
    "vac_df.drop(vac_df.index[(vac_df['recip_county'] == 'Unknown')],axis=0,inplace=True)"
   ]
  },
  {
   "cell_type": "code",
   "execution_count": null,
   "metadata": {},
   "outputs": [],
   "source": [
    "replace_dict = {'AL' : 'Alabama','AK' : 'Alaska','AZ' : 'Arizona','AR' : 'Arkansas','CA' : 'California','CO' : 'Colorado','CT' : 'Connecticut','DE' : 'Delaware','FL' : 'Florida','GA' : 'Georgia','HI' : 'Hawaii','ID' : 'Idaho','IL' : 'Illinois','IN' : 'Indiana','IA' : 'Iowa','KS' : 'Kansas','KY' : 'Kentucky','LA' : 'Louisiana','ME' : 'Maine','MD' : 'Maryland','MA' : 'Massachusetts','MI' : 'Michigan','MN' : 'Minnesota','MS' : 'Mississippi','MO' : 'Missouri','MT' : 'Montana','NE' : 'Nebraska','NV' : 'Nevada','NH' : 'New Hampshire','NJ' : 'New Jersey','NM' : 'New Mexico','NY' : 'New York','NC' : 'North Carolina','ND' : 'North Dakota','OH' : 'Ohio','OK' : 'Oklahoma','OR' : 'Oregon','PA' : 'Pennsylvania','RI' : 'Rhode Island','SC' : 'South Carolina','SD' : 'South Dakota','TN' : 'Tennessee','TX' : 'Texas','UT' : 'Utah','VT' : 'Vermont','VA' : 'Virginia','WA' : 'Washington','WV' : 'West Virginia','WI' : 'Wisconsin','WY' : 'Wyoming'}\n",
    "vac_df.recip_state.replace(replace_dict,inplace=True)"
   ]
  },
  {
   "cell_type": "code",
   "execution_count": null,
   "metadata": {},
   "outputs": [],
   "source": [
    "vac_df['county']=vac_df['recip_county'].apply(lambda x:x.replace(' County','').strip(''))"
   ]
  },
  {
   "cell_type": "code",
   "execution_count": null,
   "metadata": {},
   "outputs": [],
   "source": [
    "vac_df['date']=vac_df['date'][0].split('T')[0]"
   ]
  },
  {
   "cell_type": "code",
   "execution_count": null,
   "metadata": {},
   "outputs": [],
   "source": [
    "vac_df['date']=pd.to_datetime(vac_df['date'])"
   ]
  },
  {
   "cell_type": "code",
   "execution_count": null,
   "metadata": {},
   "outputs": [],
   "source": [
    "vac_df.rename(columns={'recip_state': 'state'}, inplace=True)\n",
    "vac_df.rename(columns={'recip_state': 'state'}, inplace=True)"
   ]
  },
  {
   "cell_type": "code",
   "execution_count": null,
   "metadata": {},
   "outputs": [],
   "source": [
    "vac_df['date'].unique()"
   ]
  },
  {
   "cell_type": "markdown",
   "metadata": {},
   "source": [
    "### Integrate vaccination & cases"
   ]
  },
  {
   "cell_type": "code",
   "execution_count": null,
   "metadata": {},
   "outputs": [],
   "source": [
    "new_df.head(1)"
   ]
  },
  {
   "cell_type": "code",
   "execution_count": null,
   "metadata": {},
   "outputs": [],
   "source": [
    "vac_df.head(1)"
   ]
  },
  {
   "cell_type": "code",
   "execution_count": null,
   "metadata": {},
   "outputs": [],
   "source": [
    "new_df.shape"
   ]
  },
  {
   "cell_type": "code",
   "execution_count": null,
   "metadata": {},
   "outputs": [],
   "source": [
    "vac_df.shape"
   ]
  },
  {
   "cell_type": "code",
   "execution_count": null,
   "metadata": {},
   "outputs": [],
   "source": [
    "vac_df['date'].unique()"
   ]
  },
  {
   "cell_type": "code",
   "execution_count": null,
   "metadata": {},
   "outputs": [],
   "source": [
    "pd.concat([new_df, vac_df],join='inner').shape"
   ]
  },
  {
   "cell_type": "code",
   "execution_count": null,
   "metadata": {},
   "outputs": [],
   "source": [
    "inner_join_d1= pd.concat(new_df, vac_df, keys=['date','county','state'], join='inner')"
   ]
  },
  {
   "cell_type": "code",
   "execution_count": null,
   "metadata": {},
   "outputs": [],
   "source": [
    "# len(new_df['state'].unique())"
   ]
  },
  {
   "cell_type": "code",
   "execution_count": null,
   "metadata": {},
   "outputs": [],
   "source": [
    "# newest_df=new_df[new_df['date']==lastest_date]"
   ]
  },
  {
   "cell_type": "code",
   "execution_count": null,
   "metadata": {},
   "outputs": [],
   "source": [
    "# import plotly.express as px\n",
    "\n",
    "# df = px.data.election()\n",
    "# geojson = px.data.election_geojson()\n",
    "\n",
    "# fig = px.choropleth(df, geojson=geojson, color=\"winner\",\n",
    "#                     locations=\"district\", featureidkey=\"properties.district\",\n",
    "#                     projection=\"mercator\", hover_data=[\"Bergeron\", \"Coderre\", \"Joly\"]\n",
    "#                    )\n",
    "# fig.update_geos(fitbounds=\"locations\", visible=False)\n",
    "# fig.update_layout(margin={\"r\":0,\"t\":0,\"l\":0,\"b\":0})\n",
    "# fig.show()"
   ]
  },
  {
   "cell_type": "code",
   "execution_count": null,
   "metadata": {},
   "outputs": [],
   "source": [
    "# counties"
   ]
  },
  {
   "cell_type": "code",
   "execution_count": null,
   "metadata": {},
   "outputs": [],
   "source": [
    "# newest_df"
   ]
  },
  {
   "cell_type": "code",
   "execution_count": null,
   "metadata": {},
   "outputs": [],
   "source": [
    "from urllib.request import urlopen\n",
    "import json\n",
    "with urlopen('https://raw.githubusercontent.com/plotly/datasets/master/geojson-counties-fips.json') as response:\n",
    "    counties = json.load(response)\n",
    "\n",
    "import plotly.express as px\n",
    "\n",
    "fig = px.choropleth(newest_df, geojson=counties, locations='county', \n",
    "                           scope=\"SLA\",\n",
    "                          )\n",
    "fig.update_layout(margin={\"r\":0,\"t\":0,\"l\":0,\"b\":0})\n",
    "fig.show()"
   ]
  },
  {
   "cell_type": "code",
   "execution_count": null,
   "metadata": {},
   "outputs": [],
   "source": [
    "import plotly.graph_objects as go\n",
    "fig = go.Figure(data=go.Bar(y=new_df['cases'],x=new_df['date']))\n",
    "fig.update_layout(\n",
    "    title=\"United States Covid Trend-\"+state_ip+\" State\",\n",
    "    xaxis_title=\"Date\",\n",
    "    yaxis_title=\"Cummulative Number of Cases\",\n",
    "    font=dict(\n",
    "        family=\"Courier New, monospace\",\n",
    "        size=18,\n",
    "        color=\"RebeccaPurple\"\n",
    "    )\n",
    ")\n",
    "# fig.write_html(state_ip+'first_figure.html', auto_open=True)\n",
    "fig.write_html(state_ip+'first_figure.html', auto_open=True)"
   ]
  },
  {
   "cell_type": "code",
   "execution_count": null,
   "metadata": {},
   "outputs": [],
   "source": [
    "aveg.head()"
   ]
  },
  {
   "cell_type": "code",
   "execution_count": null,
   "metadata": {},
   "outputs": [],
   "source": [
    "url = \"https://raw.githubusercontent.com/nytimes/covid-19-data/master/us-counties.csv\"\n",
    "cases_and_deaths = pd.read_csv(url)"
   ]
  },
  {
   "cell_type": "code",
   "execution_count": null,
   "metadata": {},
   "outputs": [],
   "source": [
    "lastest_date=cases_and_deaths['date'].max()"
   ]
  },
  {
   "cell_type": "code",
   "execution_count": null,
   "metadata": {},
   "outputs": [],
   "source": [
    "from datetime import date\n",
    "today = date.today()\n",
    "from datetime import datetime, timedelta  \n",
    "check_date = today - timedelta(days=14)\n",
    "print(check_date)"
   ]
  },
  {
   "cell_type": "code",
   "execution_count": null,
   "metadata": {},
   "outputs": [],
   "source": [
    "cases_and_deaths['date'] = pd.to_datetime(cases_and_deaths['date'])"
   ]
  },
  {
   "cell_type": "code",
   "execution_count": null,
   "metadata": {},
   "outputs": [],
   "source": [
    "mask = cases_and_deaths[\"date\"] >= str(check_date)"
   ]
  },
  {
   "cell_type": "code",
   "execution_count": null,
   "metadata": {
    "scrolled": true
   },
   "outputs": [],
   "source": [
    "new_df=cases_and_deaths[mask]"
   ]
  },
  {
   "cell_type": "code",
   "execution_count": null,
   "metadata": {},
   "outputs": [],
   "source": [
    "new_df.head()"
   ]
  },
  {
   "cell_type": "code",
   "execution_count": null,
   "metadata": {},
   "outputs": [],
   "source": [
    "for index, row in new_df.iterrows():\n",
    "    if "
   ]
  },
  {
   "cell_type": "code",
   "execution_count": null,
   "metadata": {},
   "outputs": [],
   "source": [
    "new_df[(new_df['date']=='2021-09-25')&(new_df['state']=='Alabama')]['cases'].sum()"
   ]
  },
  {
   "cell_type": "code",
   "execution_count": null,
   "metadata": {},
   "outputs": [],
   "source": [
    "cols = ['date','county','state']\n",
    "new_df['new'] = new_df.groupby(cols)['cases'].diff()"
   ]
  },
  {
   "cell_type": "code",
   "execution_count": null,
   "metadata": {},
   "outputs": [],
   "source": [
    "# del new_df['new']"
   ]
  },
  {
   "cell_type": "code",
   "execution_count": null,
   "metadata": {},
   "outputs": [],
   "source": [
    "new_df.head()"
   ]
  },
  {
   "cell_type": "markdown",
   "metadata": {},
   "source": [
    "#### Mobility"
   ]
  },
  {
   "cell_type": "code",
   "execution_count": null,
   "metadata": {},
   "outputs": [],
   "source": []
  },
  {
   "cell_type": "code",
   "execution_count": null,
   "metadata": {},
   "outputs": [],
   "source": [
    "cases_and_deaths.head(10)"
   ]
  },
  {
   "cell_type": "markdown",
   "metadata": {},
   "source": [
    "# Vaccination"
   ]
  },
  {
   "cell_type": "code",
   "execution_count": null,
   "metadata": {},
   "outputs": [],
   "source": [
    "from datetime import date\n",
    "today = date.today()\n",
    "from datetime import datetime, timedelta  \n",
    "check_date = today - timedelta(days=14)\n",
    "check_date"
   ]
  },
  {
   "cell_type": "code",
   "execution_count": null,
   "metadata": {},
   "outputs": [],
   "source": [
    "statemap=pd.read_csv('StateMapping.csv')\n",
    "\n",
    "query_state=statemap[statemap['State/District']==state_ip]['Postal Code'].item()\n",
    "\n",
    "query_state"
   ]
  },
  {
   "cell_type": "code",
   "execution_count": null,
   "metadata": {},
   "outputs": [],
   "source": [
    "url=r\"https://data.cdc.gov/resource/8xkx-amqh.csv?$query=SELECT * WHERE recip_county='\"+query_county+\"' and recip_state='\"+query_state+\"' and Date>'\"+str(check_date)+\"'\"\n",
    "url"
   ]
  },
  {
   "cell_type": "code",
   "execution_count": null,
   "metadata": {},
   "outputs": [],
   "source": [
    "# url=r\"https://data.cdc.gov/resource/8xkx-amqh.json?$query=SELECT * WHERE recip_county='\"+query_county+\"' and recip_state='\"+query_state+\"' and Date>'\"+str(check_date)+\"'\"\n",
    "import requests\n",
    "\n",
    "url=r\"https://data.cdc.gov/resource/8xkx-amqh.csv?$query=SELECT * WHERE recip_county='\"+query_county+\"' and recip_state='\"+query_state+\"' and Date>'\"+str(check_date)+\"'\"\n",
    "req = requests.get(url)\n",
    "url_content = req.content"
   ]
  },
  {
   "cell_type": "code",
   "execution_count": null,
   "metadata": {},
   "outputs": [],
   "source": []
  },
  {
   "cell_type": "code",
   "execution_count": null,
   "metadata": {},
   "outputs": [],
   "source": []
  }
 ],
 "metadata": {
  "kernelspec": {
   "display_name": "Python 3",
   "language": "python",
   "name": "python3"
  },
  "language_info": {
   "codemirror_mode": {
    "name": "ipython",
    "version": 3
   },
   "file_extension": ".py",
   "mimetype": "text/x-python",
   "name": "python",
   "nbconvert_exporter": "python",
   "pygments_lexer": "ipython3",
   "version": "3.7.6"
  }
 },
 "nbformat": 4,
 "nbformat_minor": 4
}
